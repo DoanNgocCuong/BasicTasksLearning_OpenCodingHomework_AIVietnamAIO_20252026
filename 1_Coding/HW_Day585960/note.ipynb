{
 "cells": [
  {
   "cell_type": "markdown",
   "metadata": {},
   "source": [
    "- Use PyGWalker in Kaggle\n",
    "- Use PyGWalker in Google Colab: https://colab.research.google.com/drive/171QUQeq-uTLgSj1u-P9DQig7Md1kpXQ2?usp=sharing\n",
    "\n",
    "---\n",
    "- Demo: https://pygwalker-public-bucket.s3.amazonaws.com/demo.html\n",
    "- Quickstart: https://docs.kanaries.net/pygwalker/quick-start"
   ]
  },
  {
   "cell_type": "markdown",
   "metadata": {},
   "source": [
    "![](./quickstart_Screenshot%202025-04-23%20132622.png)"
   ]
  }
 ],
 "metadata": {
  "language_info": {
   "name": "python"
  }
 },
 "nbformat": 4,
 "nbformat_minor": 2
}
